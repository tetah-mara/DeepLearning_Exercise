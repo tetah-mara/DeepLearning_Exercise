{
 "cells": [
  {
   "cell_type": "code",
   "execution_count": 46,
   "metadata": {},
   "outputs": [],
   "source": [
    "import keras\n",
    "from keras.datasets import mnist\n",
    "import numpy as np\n",
    "from keras.models import Model\n",
    "from keras.layers import Dense, Input\n",
    "from keras.layers import Conv2D, MaxPooling2D, Dropout, Flatten\n",
    "from keras import backend as k\n",
    "#load mnist dataset\n",
    "(X_train, y_train), (X_test, y_test) = mnist.load_data()\n",
    "img_rows, img_cols = 28, 28"
   ]
  },
  {
   "cell_type": "markdown",
   "metadata": {},
   "source": [
    "Modified National Institute of Standards and Technology database is a large database of handwritten digits (0 to 9). The database contains 60,000 training images and 10,000 testing images each of size 28x28"
   ]
  },
  {
   "cell_type": "markdown",
   "metadata": {},
   "source": [
    "Here X_train contains 60,000 training images’ data each of size 28x28 and y_train contains their corresponding labels."
   ]
  },
  {
   "cell_type": "code",
   "execution_count": 47,
   "metadata": {},
   "outputs": [
    {
     "data": {
      "image/png": "[encoded data removed]",
      "text/plain": [
       "<Figure size 432x288 with 9 Axes>"
      ]
     },
     "metadata": {},
     "output_type": "display_data"
    }
   ],
   "source": [
    "#Visualization\n",
    "import matplotlib.pyplot as plt\n",
    "fig = plt.figure()\n",
    "for i in range(9):\n",
    "    plt.subplot(3,3,i+1)\n",
    "    plt.tight_layout()\n",
    "    plt.imshow(X_train[i], cmap = 'gray', interpolation = 'none')\n",
    "    plt.title(\"Digit: {}\".format(y_train[i]))\n",
    "    plt.xticks([])\n",
    "    plt.yticks([])"
   ]
  },
  {
   "cell_type": "markdown",
   "metadata": {},
   "source": [
    "As can be seen here, at left top corner the image of ‘5’ is stored is X_train[0] and y_train[0] contains label ‘5’."
   ]
  },
  {
   "cell_type": "code",
   "execution_count": 48,
   "metadata": {},
   "outputs": [
    {
     "name": "stdout",
     "output_type": "stream",
     "text": [
      "X_train shape: (60000, 28, 28, 1)\n"
     ]
    }
   ],
   "source": [
    "\"\"\"Reshaping\n",
    "This assumes our data format for 3D data, \"channels_last\"\n",
    "assumes (conv_dim1, conv_dim2, conv_dim3, channels) while\n",
    "\"channels_first\" assumes (channels, conv_dim1, conv_dim2, conv_dim3)\n",
    "\"\"\"\n",
    "\n",
    "if k.image_data_format() == 'channel_first':\n",
    "    X_train = X_train.reshape(X_train.shape[0], 1, img_rows, img_cols)\n",
    "    X_test = X_test.reshape(X_test.shape[0], 1, img_rows, img_cols)\n",
    "    input_shape = (1, img_rows, img_cols)\n",
    "else:\n",
    "    X_train = X_train.reshape(X_train.shape[0], img_rows, img_cols, 1)\n",
    "    X_test = X_test.reshape(X_test.shape[0], img_rows, img_cols, 1)\n",
    "    input_shape = (img_rows, img_cols, 1)\n",
    "\n",
    "X_train = X_train.astype('float32') #to_categorical function demands float32 type\n",
    "X_test = X_test.astype('float32')\n",
    "X_train /= 255 #Normalize data to reduce calculations of large terms\n",
    "X_test /= 255\n",
    "print('X_train shape:', X_train.shape) #X_train shape: (60000, 28, 28, 1)"
   ]
  },
  {
   "cell_type": "code",
   "execution_count": 49,
   "metadata": {},
   "outputs": [],
   "source": [
    "from tensorflow.keras.utils import to_categorical\n",
    "#set number of categories\n",
    "num_category = 10\n",
    "# convert class vectors to binary class matrices\n",
    "y_train = to_categorical(y_train, num_category)\n",
    "y_test = to_categorical(y_test, num_category)"
   ]
  },
  {
   "cell_type": "code",
   "execution_count": 50,
   "metadata": {},
   "outputs": [],
   "source": [
    "#Model building\n",
    "model = keras.Sequential()\n",
    "#32 convolution filters used each of size 3x3\n",
    "model.add(Conv2D(32, kernel_size=(3,3), activation='relu', input_shape=input_shape))\n",
    "#64 convolution filters used each of size 3x3\n",
    "model.add(Conv2D(64, (3,3), activation='relu'))\n",
    "model.add(MaxPooling2D(pool_size=(2,2)))\n",
    "#randomly turn neurons on and off to improve convergence\n",
    "model.add(Dropout(0.25))\n",
    "#flatten since too many dimensions, we only want a classification output\n",
    "model.add(Flatten())\n",
    "#fully connected to get all relevant data\n",
    "model.add(Dense(128, activation='relu'))\n",
    "model.add(Dropout(0.5))\n",
    "#output a softmax to squash the matrix into output probabilities\n",
    "model.add(Dense(num_category, activation='softmax'))"
   ]
  },
  {
   "cell_type": "code",
   "execution_count": 51,
   "metadata": {},
   "outputs": [],
   "source": [
    "import tensorflow as tf\n",
    "#Adaptive learning rate (adaDelta) is a popular form of gradient descent rivaled only by adam and adagrad\n",
    "model.compile(loss=keras.losses.categorical_crossentropy, optimizer='Adadelta', metrics=['accuracy'])"
   ]
  },
  {
   "cell_type": "code",
   "execution_count": 52,
   "metadata": {},
   "outputs": [
    {
     "name": "stdout",
     "output_type": "stream",
     "text": [
      "Epoch 1/10\n",
      "469/469 [==============================] - 53s 112ms/step - loss: 2.2990 - accuracy: 0.1198 - val_loss: 2.2474 - val_accuracy: 0.2782\n",
      "Epoch 2/10\n",
      "469/469 [==============================] - 51s 110ms/step - loss: 2.2402 - accuracy: 0.2152 - val_loss: 2.1748 - val_accuracy: 0.3811\n",
      "Epoch 3/10\n",
      "469/469 [==============================] - 52s 110ms/step - loss: 2.1736 - accuracy: 0.3027 - val_loss: 2.0823 - val_accuracy: 0.5246\n",
      "Epoch 4/10\n",
      "469/469 [==============================] - 52s 110ms/step - loss: 2.0841 - accuracy: 0.3906 - val_loss: 1.9574 - val_accuracy: 0.6151\n",
      "Epoch 5/10\n",
      "469/469 [==============================] - 51s 110ms/step - loss: 1.9612 - accuracy: 0.4756 - val_loss: 1.7953 - val_accuracy: 0.6704\n",
      "Epoch 6/10\n",
      "469/469 [==============================] - 52s 110ms/step - loss: 1.8108 - accuracy: 0.5348 - val_loss: 1.6044 - val_accuracy: 0.7216\n",
      "Epoch 7/10\n",
      "469/469 [==============================] - 51s 110ms/step - loss: 1.6455 - accuracy: 0.5844 - val_loss: 1.3992 - val_accuracy: 0.7568\n",
      "Epoch 8/10\n",
      "469/469 [==============================] - 52s 110ms/step - loss: 1.4771 - accuracy: 0.6147 - val_loss: 1.2051 - val_accuracy: 0.7820\n",
      "Epoch 9/10\n",
      "469/469 [==============================] - 51s 109ms/step - loss: 1.3183 - accuracy: 0.6476 - val_loss: 1.0403 - val_accuracy: 0.8024\n",
      "Epoch 10/10\n",
      "469/469 [==============================] - 52s 110ms/step - loss: 1.1892 - accuracy: 0.6677 - val_loss: 0.9099 - val_accuracy: 0.8137\n"
     ]
    }
   ],
   "source": [
    "batch_size = 128\n",
    "num_epoch = 10\n",
    "#model training\n",
    "model_log = model.fit(X_train, y_train, batch_size=batch_size, epochs = num_epoch, verbose = 1, validation_data=(X_test, y_test))"
   ]
  },
  {
   "cell_type": "markdown",
   "metadata": {},
   "source": [
    "Now the trained model needs to be evaluated in terms of performance"
   ]
  },
  {
   "cell_type": "code",
   "execution_count": 53,
   "metadata": {},
   "outputs": [
    {
     "name": "stdout",
     "output_type": "stream",
     "text": [
      "Test loss: 0.9099323153495789\n",
      "Test accuracy: 0.8137000203132629\n"
     ]
    }
   ],
   "source": [
    "score = model.evaluate(X_test, y_test, verbose=0)\n",
    "print('Test loss:', score[0])\n",
    "print('Test accuracy:', score[1])"
   ]
  },
  {
   "cell_type": "code",
   "execution_count": 56,
   "metadata": {},
   "outputs": [
    {
     "data": {
      "image/png": "[encoded data removed]",
      "text/plain": [
       "<Figure size 432x288 with 2 Axes>"
      ]
     },
     "metadata": {
      "needs_background": "light"
     },
     "output_type": "display_data"
    }
   ],
   "source": [
    "import os\n",
    "#plotting the metrics\n",
    "fig = plt.figure()\n",
    "plt.subplot(2,1,1)\n",
    "plt.plot(model_log.history['accuracy'])\n",
    "plt.plot(model_log.history['val_accuracy'])\n",
    "plt.title('model accuracy')\n",
    "plt.ylabel('accuracy')\n",
    "plt.xlabel('epoch')\n",
    "plt.legend(['train', 'test'], loc='lower right')\n",
    "\n",
    "plt.subplot(2,1,2)\n",
    "plt.plot(model_log.history['loss'])\n",
    "plt.plot(model_log.history['val_loss'])\n",
    "plt.title('model loss')\n",
    "plt.ylabel('loss')\n",
    "plt.xlabel('epoch')\n",
    "plt.legend(['train', 'test'], loc='upper right')\n",
    "\n",
    "plt.tight_layout()"
   ]
  },
  {
   "cell_type": "markdown",
   "metadata": {},
   "source": [
    "Now, the trained model needs to be serialized. The architecture or structure of the model will be stored in a json file and the weights will be stored in hdf5 file format"
   ]
  },
  {
   "cell_type": "code",
   "execution_count": 57,
   "metadata": {},
   "outputs": [
    {
     "name": "stdout",
     "output_type": "stream",
     "text": [
      "Saved model to disk\n"
     ]
    }
   ],
   "source": [
    "#Save the model\n",
    "#Serialize model to JSON\n",
    "model_digit_json = model.to_json()\n",
    "with open(\"model_digit.json\", \"w\") as json_file:\n",
    "    json_file.write(model_digit_json)\n",
    "#Serialize weights to HDF5\n",
    "model.save_weights(\"model_digit.h5\")\n",
    "print(\"Saved model to disk\")"
   ]
  },
  {
   "cell_type": "markdown",
   "metadata": {},
   "source": [
    "Hence the saved model can be reused later or easily ported to other environments too"
   ]
  },
  {
   "cell_type": "code",
   "execution_count": null,
   "metadata": {},
   "outputs": [],
   "source": []
  }
 ],
 "metadata": {
  "kernelspec": {
   "display_name": "Python 3",
   "language": "python",
   "name": "python3"
  },
  "language_info": {
   "codemirror_mode": {
    "name": "ipython",
    "version": 3
   },
   "file_extension": ".py",
   "mimetype": "text/x-python",
   "name": "python",
   "nbconvert_exporter": "python",
   "pygments_lexer": "ipython3",
   "version": "3.8.5"
  }
 },
 "nbformat": 4,
 "nbformat_minor": 4
}
