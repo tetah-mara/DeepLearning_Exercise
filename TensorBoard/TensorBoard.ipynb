{
 "cells": [
  {
   "cell_type": "code",
   "execution_count": 13,
   "metadata": {},
   "outputs": [],
   "source": [
    "import tensorflow as tf\n",
    "from tensorflow.keras.datasets import cifar10\n",
    "from tensorflow.keras.preprocessing.image import ImageDataGenerator\n",
    "from tensorflow.keras.models import Sequential\n",
    "from tensorflow.keras.layers import Dense, Dropout, Activation, Flatten\n",
    "from tensorflow.keras.layers import Conv2D, MaxPooling2D\n",
    "from tensorflow.keras.callbacks import TensorBoard\n",
    "import pickle\n",
    "import time"
   ]
  },
  {
   "cell_type": "code",
   "execution_count": 14,
   "metadata": {},
   "outputs": [],
   "source": [
    "NAME = \"Cats-vs-dog-cnn-64x2-{}\".format(int(time.time()))\n",
    "\n",
    "tensorboard = TensorBoard(log_dir='logs/{}'.format(NAME))"
   ]
  },
  {
   "cell_type": "code",
   "execution_count": 15,
   "metadata": {},
   "outputs": [],
   "source": [
    "pickle_in = open(\"X.pickle\", \"rb\")\n",
    "X = pickle.load(pickle_in)\n",
    "\n",
    "pickle_in = open(\"y.pickle\", \"rb\")\n",
    "y = pickle.load(pickle_in)\n",
    "\n",
    "X = X/255.0"
   ]
  },
  {
   "cell_type": "code",
   "execution_count": 17,
   "metadata": {},
   "outputs": [
    {
     "name": "stdout",
     "output_type": "stream",
     "text": [
      "Epoch 1/20\n",
      "546/546 [==============================] - 40s 73ms/step - loss: 0.6197 - accuracy: 0.6504 - val_loss: 0.5536 - val_accuracy: 0.7218\n",
      "Epoch 2/20\n",
      "546/546 [==============================] - 40s 73ms/step - loss: 0.5288 - accuracy: 0.7357 - val_loss: 0.4978 - val_accuracy: 0.7627\n",
      "Epoch 3/20\n",
      "546/546 [==============================] - 40s 74ms/step - loss: 0.4906 - accuracy: 0.7637 - val_loss: 0.4843 - val_accuracy: 0.7675\n",
      "Epoch 4/20\n",
      "546/546 [==============================] - 40s 73ms/step - loss: 0.4673 - accuracy: 0.7771 - val_loss: 0.4874 - val_accuracy: 0.7688\n",
      "Epoch 5/20\n",
      "546/546 [==============================] - 41s 74ms/step - loss: 0.4458 - accuracy: 0.7924 - val_loss: 0.4555 - val_accuracy: 0.7894\n",
      "Epoch 6/20\n",
      "546/546 [==============================] - 42s 76ms/step - loss: 0.4241 - accuracy: 0.8050 - val_loss: 0.4406 - val_accuracy: 0.8012\n",
      "Epoch 7/20\n",
      "546/546 [==============================] - 40s 73ms/step - loss: 0.4052 - accuracy: 0.8163 - val_loss: 0.4558 - val_accuracy: 0.7893\n",
      "Epoch 8/20\n",
      "546/546 [==============================] - 38s 70ms/step - loss: 0.3829 - accuracy: 0.8304 - val_loss: 0.4477 - val_accuracy: 0.7974\n",
      "Epoch 9/20\n",
      "546/546 [==============================] - 38s 69ms/step - loss: 0.3604 - accuracy: 0.8403 - val_loss: 0.4293 - val_accuracy: 0.8063\n",
      "Epoch 10/20\n",
      "546/546 [==============================] - 38s 69ms/step - loss: 0.3484 - accuracy: 0.8474 - val_loss: 0.4501 - val_accuracy: 0.7957\n",
      "Epoch 11/20\n",
      "546/546 [==============================] - 39s 71ms/step - loss: 0.3304 - accuracy: 0.8540 - val_loss: 0.4161 - val_accuracy: 0.8132\n",
      "Epoch 12/20\n",
      "546/546 [==============================] - 42s 76ms/step - loss: 0.3093 - accuracy: 0.8634 - val_loss: 0.4216 - val_accuracy: 0.8117\n",
      "Epoch 13/20\n",
      "546/546 [==============================] - 38s 70ms/step - loss: 0.2978 - accuracy: 0.8729 - val_loss: 0.4211 - val_accuracy: 0.8153\n",
      "Epoch 14/20\n",
      "546/546 [==============================] - 38s 70ms/step - loss: 0.2806 - accuracy: 0.8827 - val_loss: 0.4241 - val_accuracy: 0.8128\n",
      "Epoch 15/20\n",
      "546/546 [==============================] - 38s 69ms/step - loss: 0.2655 - accuracy: 0.8882 - val_loss: 0.4333 - val_accuracy: 0.8157\n",
      "Epoch 16/20\n",
      "546/546 [==============================] - 38s 69ms/step - loss: 0.2513 - accuracy: 0.8959 - val_loss: 0.4973 - val_accuracy: 0.7902\n",
      "Epoch 17/20\n",
      "546/546 [==============================] - 38s 70ms/step - loss: 0.2353 - accuracy: 0.9047 - val_loss: 0.4513 - val_accuracy: 0.8116\n",
      "Epoch 18/20\n",
      "546/546 [==============================] - 40s 73ms/step - loss: 0.2190 - accuracy: 0.9090 - val_loss: 0.4693 - val_accuracy: 0.8069\n",
      "Epoch 19/20\n",
      "546/546 [==============================] - 41s 75ms/step - loss: 0.2115 - accuracy: 0.9155 - val_loss: 0.4636 - val_accuracy: 0.8081\n",
      "Epoch 20/20\n",
      "546/546 [==============================] - 40s 74ms/step - loss: 0.1996 - accuracy: 0.9210 - val_loss: 0.4813 - val_accuracy: 0.8108\n"
     ]
    },
    {
     "data": {
      "text/plain": [
       "<tensorflow.python.keras.callbacks.History at 0x256201e9d00>"
      ]
     },
     "execution_count": 17,
     "metadata": {},
     "output_type": "execute_result"
    }
   ],
   "source": [
    "model = Sequential()\n",
    "model.add(Conv2D(64, (3,3), input_shape=X.shape[1:]))\n",
    "model.add(Activation('relu'))\n",
    "model.add(MaxPooling2D(pool_size=(2,2)))\n",
    "\n",
    "model.add(Conv2D(64, (3,3)))\n",
    "model.add(Activation('relu'))\n",
    "model.add(MaxPooling2D(pool_size=(2,2)))\n",
    "\n",
    "model.add(Flatten()) #this converts 3D feature maps to 1D feature vectors\n",
    "\n",
    "#model.add(Dense(64))\n",
    "#model.add(Activation('relu'))\n",
    "\n",
    "model.add(Dense(1))\n",
    "model.add(Activation('sigmoid'))\n",
    "\n",
    "model.compile(loss='binary_crossentropy', optimizer='adam', metrics=['accuracy'])\n",
    "model.fit(X, y, batch_size=32, epochs=20, validation_split=0.3, callbacks= [tensorboard])"
   ]
  },
  {
   "cell_type": "code",
   "execution_count": null,
   "metadata": {},
   "outputs": [],
   "source": []
  }
 ],
 "metadata": {
  "kernelspec": {
   "display_name": "Python 3",
   "language": "python",
   "name": "python3"
  },
  "language_info": {
   "codemirror_mode": {
    "name": "ipython",
    "version": 3
   },
   "file_extension": ".py",
   "mimetype": "text/x-python",
   "name": "python",
   "nbconvert_exporter": "python",
   "pygments_lexer": "ipython3",
   "version": "3.8.5"
  }
 },
 "nbformat": 4,
 "nbformat_minor": 4
}
